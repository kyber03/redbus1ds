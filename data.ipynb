{
 "cells": [
  {
   "cell_type": "code",
   "execution_count": null,
   "metadata": {},
   "outputs": [
    {
     "name": "stderr",
     "output_type": "stream",
     "text": [
      "<>:9: SyntaxWarning: invalid escape sequence '\\P'\n",
      "<>:9: SyntaxWarning: invalid escape sequence '\\P'\n",
      "C:\\Users\\Ubai\\AppData\\Local\\Temp\\ipykernel_15956\\990358880.py:9: SyntaxWarning: invalid escape sequence '\\P'\n",
      "  PATH = \"C:\\Program Files\\Drivers\\chromedriver.exe\"\n"
     ]
    },
    {
     "name": "stdout",
     "output_type": "stream",
     "text": [
      "\n"
     ]
    }
   ],
   "source": [
    "from selenium import webdriver\n",
    "from selenium.webdriver.chrome.service import Service\n",
    "from selenium.webdriver.common.by import By\n",
    "from selenium.webdriver.common.keys import Keys\n",
    "from selenium.common.exceptions import NoSuchElementException\n",
    "import time\n",
    "\n",
    "\n",
    "PATH = \"C:\\Program Files\\Drivers\\chromedriver.exe\"\n",
    "\n",
    "service = Service(executable_path=PATH)\n",
    "\n",
    "driver = webdriver.Chrome(service=service)\n",
    "\n",
    "name = []\n",
    "\n",
    "driver.get('https://www.redbus.in/bus-tickets/kozhikode-to-ernakulam?fromCityId=74661&toCityId=216&fromCityName=Kozhikode&toCityName=Ernakulam&busType=Any&srcCountry=IND&destCountry=IND&onward=20-Jan-2025')\n",
    "\n",
    "\n",
    "# driver.find_element(By.XPATH,\"//a[@class='route']\").click()\n",
    "\n",
    "\n",
    "bustype = driver.find_element(by=By.XPATH,value='//div[@class=\"bus-type f-12 m-top-16 l-color evBus\"]').text\n",
    "\n",
    "\n",
    "\n",
    "\n",
    "print(bustype)\n",
    "\n",
    "\n",
    "\n",
    "\n"
   ]
  },
  {
   "cell_type": "code",
   "execution_count": null,
   "metadata": {},
   "outputs": [],
   "source": [
    "# bustype = driver.find_element(By.XPATH,\"//div[@class ='bus-type f-12 m-top-16 l-color evBus']\").text\n",
    "# departing = driver.find_element(By.XPATH,\"//div[@class ='dp-time f-19 d-color f-bold']\").text\n",
    "# duration = driver.find_element(By.XPATH,\"//div[@class ='dur l-color lh-24']\").text\n",
    "# arrival = driver.find_element(By.XPATH,\"//div[@class ='bp-time f-19 d-color disp-Inline']\").text\n",
    "# rating = driver.find_element(By.XPATH,\"//span[@class='']\").text\n",
    "# price = driver.find_element(By.XPATH,\"//div[@class ='f-19 f-bold']\").text\n",
    "# seats_avail = driver.find_element(By.XPATH,\"//div[@class ='seat-left m-top-30']\").text"
   ]
  },
  {
   "cell_type": "code",
   "execution_count": 31,
   "metadata": {},
   "outputs": [
    {
     "name": "stderr",
     "output_type": "stream",
     "text": [
      "<>:1: SyntaxWarning: invalid escape sequence '\\P'\n",
      "<>:1: SyntaxWarning: invalid escape sequence '\\P'\n",
      "C:\\Users\\Ubai\\AppData\\Local\\Temp\\ipykernel_15956\\3872893719.py:1: SyntaxWarning: invalid escape sequence '\\P'\n",
      "  PATH = \"C:\\Program Files\\Drivers\\chromedriver.exe\"\n"
     ]
    },
    {
     "data": {
      "text/plain": [
       "\"India's No. 1 Online Bus Ticket Booking Site\""
      ]
     },
     "execution_count": 31,
     "metadata": {},
     "output_type": "execute_result"
    }
   ],
   "source": [
    "PATH = \"C:\\Program Files\\Drivers\\chromedriver.exe\"\n",
    "\n",
    "service = Service(executable_path=PATH)\n",
    "\n",
    "driver = webdriver.Chrome(service=service)\n",
    "\n",
    "driver.get('https://www.redbus.in/')\n",
    "driver.maximize_window()\n",
    "\n",
    "title = driver.find_element(By.XPATH,\"//h1[@class='sc-jAaTju fOJRFi']\")\n",
    "title.text"
   ]
  }
 ],
 "metadata": {
  "kernelspec": {
   "display_name": "Python 3",
   "language": "python",
   "name": "python3"
  },
  "language_info": {
   "codemirror_mode": {
    "name": "ipython",
    "version": 3
   },
   "file_extension": ".py",
   "mimetype": "text/x-python",
   "name": "python",
   "nbconvert_exporter": "python",
   "pygments_lexer": "ipython3",
   "version": "3.12.6"
  }
 },
 "nbformat": 4,
 "nbformat_minor": 2
}
